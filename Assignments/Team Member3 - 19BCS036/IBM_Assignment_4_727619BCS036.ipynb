{
  "cells": [
    {
      "cell_type": "markdown",
      "source": [
        "### **727619BCS036**\n",
        "### **GOWTHAM** "
      ],
      "metadata": {
        "id": "ZfaKGp6tveNn"
      },
      "id": "ZfaKGp6tveNn"
    },
    {
      "cell_type": "code",
      "execution_count": 15,
      "id": "56fed22a",
      "metadata": {
        "id": "56fed22a"
      },
      "outputs": [],
      "source": [
        "import pandas as pd\n",
        "import numpy as np\n",
        "import seaborn as sns"
      ]
    },
    {
      "cell_type": "code",
      "execution_count": 18,
      "id": "e97b934b",
      "metadata": {
        "colab": {
          "base_uri": "https://localhost:8080/",
          "height": 206
        },
        "id": "e97b934b",
        "outputId": "0d9b3cbe-98cb-4db8-8df0-0992b10291f1"
      },
      "outputs": [
        {
          "output_type": "execute_result",
          "data": {
            "text/plain": [
              "   CustomerID  Gender  Age  Annual Income (k$)  Spending Score (1-100)\n",
              "0           1    Male   19                  15                      39\n",
              "1           2    Male   21                  15                      81\n",
              "2           3  Female   20                  16                       6\n",
              "3           4  Female   23                  16                      77\n",
              "4           5  Female   31                  17                      40"
            ],
            "text/html": [
              "\n",
              "  <div id=\"df-d085aeef-72ce-4cdd-b5cc-3c7ba403551f\">\n",
              "    <div class=\"colab-df-container\">\n",
              "      <div>\n",
              "<style scoped>\n",
              "    .dataframe tbody tr th:only-of-type {\n",
              "        vertical-align: middle;\n",
              "    }\n",
              "\n",
              "    .dataframe tbody tr th {\n",
              "        vertical-align: top;\n",
              "    }\n",
              "\n",
              "    .dataframe thead th {\n",
              "        text-align: right;\n",
              "    }\n",
              "</style>\n",
              "<table border=\"1\" class=\"dataframe\">\n",
              "  <thead>\n",
              "    <tr style=\"text-align: right;\">\n",
              "      <th></th>\n",
              "      <th>CustomerID</th>\n",
              "      <th>Gender</th>\n",
              "      <th>Age</th>\n",
              "      <th>Annual Income (k$)</th>\n",
              "      <th>Spending Score (1-100)</th>\n",
              "    </tr>\n",
              "  </thead>\n",
              "  <tbody>\n",
              "    <tr>\n",
              "      <th>0</th>\n",
              "      <td>1</td>\n",
              "      <td>Male</td>\n",
              "      <td>19</td>\n",
              "      <td>15</td>\n",
              "      <td>39</td>\n",
              "    </tr>\n",
              "    <tr>\n",
              "      <th>1</th>\n",
              "      <td>2</td>\n",
              "      <td>Male</td>\n",
              "      <td>21</td>\n",
              "      <td>15</td>\n",
              "      <td>81</td>\n",
              "    </tr>\n",
              "    <tr>\n",
              "      <th>2</th>\n",
              "      <td>3</td>\n",
              "      <td>Female</td>\n",
              "      <td>20</td>\n",
              "      <td>16</td>\n",
              "      <td>6</td>\n",
              "    </tr>\n",
              "    <tr>\n",
              "      <th>3</th>\n",
              "      <td>4</td>\n",
              "      <td>Female</td>\n",
              "      <td>23</td>\n",
              "      <td>16</td>\n",
              "      <td>77</td>\n",
              "    </tr>\n",
              "    <tr>\n",
              "      <th>4</th>\n",
              "      <td>5</td>\n",
              "      <td>Female</td>\n",
              "      <td>31</td>\n",
              "      <td>17</td>\n",
              "      <td>40</td>\n",
              "    </tr>\n",
              "  </tbody>\n",
              "</table>\n",
              "</div>\n",
              "      <button class=\"colab-df-convert\" onclick=\"convertToInteractive('df-d085aeef-72ce-4cdd-b5cc-3c7ba403551f')\"\n",
              "              title=\"Convert this dataframe to an interactive table.\"\n",
              "              style=\"display:none;\">\n",
              "        \n",
              "  <svg xmlns=\"http://www.w3.org/2000/svg\" height=\"24px\"viewBox=\"0 0 24 24\"\n",
              "       width=\"24px\">\n",
              "    <path d=\"M0 0h24v24H0V0z\" fill=\"none\"/>\n",
              "    <path d=\"M18.56 5.44l.94 2.06.94-2.06 2.06-.94-2.06-.94-.94-2.06-.94 2.06-2.06.94zm-11 1L8.5 8.5l.94-2.06 2.06-.94-2.06-.94L8.5 2.5l-.94 2.06-2.06.94zm10 10l.94 2.06.94-2.06 2.06-.94-2.06-.94-.94-2.06-.94 2.06-2.06.94z\"/><path d=\"M17.41 7.96l-1.37-1.37c-.4-.4-.92-.59-1.43-.59-.52 0-1.04.2-1.43.59L10.3 9.45l-7.72 7.72c-.78.78-.78 2.05 0 2.83L4 21.41c.39.39.9.59 1.41.59.51 0 1.02-.2 1.41-.59l7.78-7.78 2.81-2.81c.8-.78.8-2.07 0-2.86zM5.41 20L4 18.59l7.72-7.72 1.47 1.35L5.41 20z\"/>\n",
              "  </svg>\n",
              "      </button>\n",
              "      \n",
              "  <style>\n",
              "    .colab-df-container {\n",
              "      display:flex;\n",
              "      flex-wrap:wrap;\n",
              "      gap: 12px;\n",
              "    }\n",
              "\n",
              "    .colab-df-convert {\n",
              "      background-color: #E8F0FE;\n",
              "      border: none;\n",
              "      border-radius: 50%;\n",
              "      cursor: pointer;\n",
              "      display: none;\n",
              "      fill: #1967D2;\n",
              "      height: 32px;\n",
              "      padding: 0 0 0 0;\n",
              "      width: 32px;\n",
              "    }\n",
              "\n",
              "    .colab-df-convert:hover {\n",
              "      background-color: #E2EBFA;\n",
              "      box-shadow: 0px 1px 2px rgba(60, 64, 67, 0.3), 0px 1px 3px 1px rgba(60, 64, 67, 0.15);\n",
              "      fill: #174EA6;\n",
              "    }\n",
              "\n",
              "    [theme=dark] .colab-df-convert {\n",
              "      background-color: #3B4455;\n",
              "      fill: #D2E3FC;\n",
              "    }\n",
              "\n",
              "    [theme=dark] .colab-df-convert:hover {\n",
              "      background-color: #434B5C;\n",
              "      box-shadow: 0px 1px 3px 1px rgba(0, 0, 0, 0.15);\n",
              "      filter: drop-shadow(0px 1px 2px rgba(0, 0, 0, 0.3));\n",
              "      fill: #FFFFFF;\n",
              "    }\n",
              "  </style>\n",
              "\n",
              "      <script>\n",
              "        const buttonEl =\n",
              "          document.querySelector('#df-d085aeef-72ce-4cdd-b5cc-3c7ba403551f button.colab-df-convert');\n",
              "        buttonEl.style.display =\n",
              "          google.colab.kernel.accessAllowed ? 'block' : 'none';\n",
              "\n",
              "        async function convertToInteractive(key) {\n",
              "          const element = document.querySelector('#df-d085aeef-72ce-4cdd-b5cc-3c7ba403551f');\n",
              "          const dataTable =\n",
              "            await google.colab.kernel.invokeFunction('convertToInteractive',\n",
              "                                                     [key], {});\n",
              "          if (!dataTable) return;\n",
              "\n",
              "          const docLinkHtml = 'Like what you see? Visit the ' +\n",
              "            '<a target=\"_blank\" href=https://colab.research.google.com/notebooks/data_table.ipynb>data table notebook</a>'\n",
              "            + ' to learn more about interactive tables.';\n",
              "          element.innerHTML = '';\n",
              "          dataTable['output_type'] = 'display_data';\n",
              "          await google.colab.output.renderOutput(dataTable, element);\n",
              "          const docLink = document.createElement('div');\n",
              "          docLink.innerHTML = docLinkHtml;\n",
              "          element.appendChild(docLink);\n",
              "        }\n",
              "      </script>\n",
              "    </div>\n",
              "  </div>\n",
              "  "
            ]
          },
          "metadata": {},
          "execution_count": 18
        }
      ],
      "source": [
        "mall_customers=pd.read_csv(\"/content/sample_data/Mall_Customers (1).csv\")\n",
        "mall_customers.head()"
      ]
    },
    {
      "cell_type": "code",
      "execution_count": 19,
      "id": "b114808e",
      "metadata": {
        "colab": {
          "base_uri": "https://localhost:8080/"
        },
        "id": "b114808e",
        "outputId": "61c93f9a-020c-4e72-a0d2-5c9438c0d006"
      },
      "outputs": [
        {
          "output_type": "execute_result",
          "data": {
            "text/plain": [
              "(200, 5)"
            ]
          },
          "metadata": {},
          "execution_count": 19
        }
      ],
      "source": [
        "mall_customers.shape"
      ]
    },
    {
      "cell_type": "code",
      "execution_count": 20,
      "id": "b84ce651",
      "metadata": {
        "colab": {
          "base_uri": "https://localhost:8080/",
          "height": 206
        },
        "id": "b84ce651",
        "outputId": "c304f01a-b226-427d-b296-de642e9d5cb1"
      },
      "outputs": [
        {
          "output_type": "execute_result",
          "data": {
            "text/plain": [
              "   Gender  Age  Annual Income (k$)  Spending Score (1-100)\n",
              "0    Male   19                  15                      39\n",
              "1    Male   21                  15                      81\n",
              "2  Female   20                  16                       6\n",
              "3  Female   23                  16                      77\n",
              "4  Female   31                  17                      40"
            ],
            "text/html": [
              "\n",
              "  <div id=\"df-e2dfc5cf-55e3-46bd-8c44-4c916e81481e\">\n",
              "    <div class=\"colab-df-container\">\n",
              "      <div>\n",
              "<style scoped>\n",
              "    .dataframe tbody tr th:only-of-type {\n",
              "        vertical-align: middle;\n",
              "    }\n",
              "\n",
              "    .dataframe tbody tr th {\n",
              "        vertical-align: top;\n",
              "    }\n",
              "\n",
              "    .dataframe thead th {\n",
              "        text-align: right;\n",
              "    }\n",
              "</style>\n",
              "<table border=\"1\" class=\"dataframe\">\n",
              "  <thead>\n",
              "    <tr style=\"text-align: right;\">\n",
              "      <th></th>\n",
              "      <th>Gender</th>\n",
              "      <th>Age</th>\n",
              "      <th>Annual Income (k$)</th>\n",
              "      <th>Spending Score (1-100)</th>\n",
              "    </tr>\n",
              "  </thead>\n",
              "  <tbody>\n",
              "    <tr>\n",
              "      <th>0</th>\n",
              "      <td>Male</td>\n",
              "      <td>19</td>\n",
              "      <td>15</td>\n",
              "      <td>39</td>\n",
              "    </tr>\n",
              "    <tr>\n",
              "      <th>1</th>\n",
              "      <td>Male</td>\n",
              "      <td>21</td>\n",
              "      <td>15</td>\n",
              "      <td>81</td>\n",
              "    </tr>\n",
              "    <tr>\n",
              "      <th>2</th>\n",
              "      <td>Female</td>\n",
              "      <td>20</td>\n",
              "      <td>16</td>\n",
              "      <td>6</td>\n",
              "    </tr>\n",
              "    <tr>\n",
              "      <th>3</th>\n",
              "      <td>Female</td>\n",
              "      <td>23</td>\n",
              "      <td>16</td>\n",
              "      <td>77</td>\n",
              "    </tr>\n",
              "    <tr>\n",
              "      <th>4</th>\n",
              "      <td>Female</td>\n",
              "      <td>31</td>\n",
              "      <td>17</td>\n",
              "      <td>40</td>\n",
              "    </tr>\n",
              "  </tbody>\n",
              "</table>\n",
              "</div>\n",
              "      <button class=\"colab-df-convert\" onclick=\"convertToInteractive('df-e2dfc5cf-55e3-46bd-8c44-4c916e81481e')\"\n",
              "              title=\"Convert this dataframe to an interactive table.\"\n",
              "              style=\"display:none;\">\n",
              "        \n",
              "  <svg xmlns=\"http://www.w3.org/2000/svg\" height=\"24px\"viewBox=\"0 0 24 24\"\n",
              "       width=\"24px\">\n",
              "    <path d=\"M0 0h24v24H0V0z\" fill=\"none\"/>\n",
              "    <path d=\"M18.56 5.44l.94 2.06.94-2.06 2.06-.94-2.06-.94-.94-2.06-.94 2.06-2.06.94zm-11 1L8.5 8.5l.94-2.06 2.06-.94-2.06-.94L8.5 2.5l-.94 2.06-2.06.94zm10 10l.94 2.06.94-2.06 2.06-.94-2.06-.94-.94-2.06-.94 2.06-2.06.94z\"/><path d=\"M17.41 7.96l-1.37-1.37c-.4-.4-.92-.59-1.43-.59-.52 0-1.04.2-1.43.59L10.3 9.45l-7.72 7.72c-.78.78-.78 2.05 0 2.83L4 21.41c.39.39.9.59 1.41.59.51 0 1.02-.2 1.41-.59l7.78-7.78 2.81-2.81c.8-.78.8-2.07 0-2.86zM5.41 20L4 18.59l7.72-7.72 1.47 1.35L5.41 20z\"/>\n",
              "  </svg>\n",
              "      </button>\n",
              "      \n",
              "  <style>\n",
              "    .colab-df-container {\n",
              "      display:flex;\n",
              "      flex-wrap:wrap;\n",
              "      gap: 12px;\n",
              "    }\n",
              "\n",
              "    .colab-df-convert {\n",
              "      background-color: #E8F0FE;\n",
              "      border: none;\n",
              "      border-radius: 50%;\n",
              "      cursor: pointer;\n",
              "      display: none;\n",
              "      fill: #1967D2;\n",
              "      height: 32px;\n",
              "      padding: 0 0 0 0;\n",
              "      width: 32px;\n",
              "    }\n",
              "\n",
              "    .colab-df-convert:hover {\n",
              "      background-color: #E2EBFA;\n",
              "      box-shadow: 0px 1px 2px rgba(60, 64, 67, 0.3), 0px 1px 3px 1px rgba(60, 64, 67, 0.15);\n",
              "      fill: #174EA6;\n",
              "    }\n",
              "\n",
              "    [theme=dark] .colab-df-convert {\n",
              "      background-color: #3B4455;\n",
              "      fill: #D2E3FC;\n",
              "    }\n",
              "\n",
              "    [theme=dark] .colab-df-convert:hover {\n",
              "      background-color: #434B5C;\n",
              "      box-shadow: 0px 1px 3px 1px rgba(0, 0, 0, 0.15);\n",
              "      filter: drop-shadow(0px 1px 2px rgba(0, 0, 0, 0.3));\n",
              "      fill: #FFFFFF;\n",
              "    }\n",
              "  </style>\n",
              "\n",
              "      <script>\n",
              "        const buttonEl =\n",
              "          document.querySelector('#df-e2dfc5cf-55e3-46bd-8c44-4c916e81481e button.colab-df-convert');\n",
              "        buttonEl.style.display =\n",
              "          google.colab.kernel.accessAllowed ? 'block' : 'none';\n",
              "\n",
              "        async function convertToInteractive(key) {\n",
              "          const element = document.querySelector('#df-e2dfc5cf-55e3-46bd-8c44-4c916e81481e');\n",
              "          const dataTable =\n",
              "            await google.colab.kernel.invokeFunction('convertToInteractive',\n",
              "                                                     [key], {});\n",
              "          if (!dataTable) return;\n",
              "\n",
              "          const docLinkHtml = 'Like what you see? Visit the ' +\n",
              "            '<a target=\"_blank\" href=https://colab.research.google.com/notebooks/data_table.ipynb>data table notebook</a>'\n",
              "            + ' to learn more about interactive tables.';\n",
              "          element.innerHTML = '';\n",
              "          dataTable['output_type'] = 'display_data';\n",
              "          await google.colab.output.renderOutput(dataTable, element);\n",
              "          const docLink = document.createElement('div');\n",
              "          docLink.innerHTML = docLinkHtml;\n",
              "          element.appendChild(docLink);\n",
              "        }\n",
              "      </script>\n",
              "    </div>\n",
              "  </div>\n",
              "  "
            ]
          },
          "metadata": {},
          "execution_count": 20
        }
      ],
      "source": [
        "mall_customers=mall_customers.drop(columns=['CustomerID'])\n",
        "mall_customers.head()"
      ]
    },
    {
      "cell_type": "code",
      "execution_count": 21,
      "id": "48b740fb",
      "metadata": {
        "colab": {
          "base_uri": "https://localhost:8080/",
          "height": 351
        },
        "id": "48b740fb",
        "outputId": "d7d6611b-219e-45de-ae03-38bd6f92d12a"
      },
      "outputs": [
        {
          "output_type": "stream",
          "name": "stderr",
          "text": [
            "/usr/local/lib/python3.7/dist-packages/seaborn/_decorators.py:43: FutureWarning: Pass the following variable as a keyword arg: x. From version 0.12, the only valid positional argument will be `data`, and passing other arguments without an explicit keyword will result in an error or misinterpretation.\n",
            "  FutureWarning\n"
          ]
        },
        {
          "output_type": "execute_result",
          "data": {
            "text/plain": [
              "<matplotlib.axes._subplots.AxesSubplot at 0x7f0304829bd0>"
            ]
          },
          "metadata": {},
          "execution_count": 21
        },
        {
          "output_type": "display_data",
          "data": {
            "text/plain": [
              "<Figure size 432x288 with 1 Axes>"
            ],
            "image/png": "[encoded data removed]"
          },
          "metadata": {
            "needs_background": "light"
          }
        }
      ],
      "source": [
        "#univariate analysis\n",
        "\n",
        "sns.boxplot(mall_customers['Age'])"
      ]
    },
    {
      "cell_type": "code",
      "execution_count": 22,
      "id": "584bbe2b",
      "metadata": {
        "colab": {
          "base_uri": "https://localhost:8080/",
          "height": 351
        },
        "id": "584bbe2b",
        "outputId": "0f83bfb0-d5a2-4963-8d3c-aec761f2a4af"
      },
      "outputs": [
        {
          "output_type": "stream",
          "name": "stderr",
          "text": [
            "/usr/local/lib/python3.7/dist-packages/seaborn/distributions.py:2619: FutureWarning: `distplot` is a deprecated function and will be removed in a future version. Please adapt your code to use either `displot` (a figure-level function with similar flexibility) or `histplot` (an axes-level function for histograms).\n",
            "  warnings.warn(msg, FutureWarning)\n"
          ]
        },
        {
          "output_type": "execute_result",
          "data": {
            "text/plain": [
              "<matplotlib.axes._subplots.AxesSubplot at 0x7f030480a2d0>"
            ]
          },
          "metadata": {},
          "execution_count": 22
        },
        {
          "output_type": "display_data",
          "data": {
            "text/plain": [
              "<Figure size 432x288 with 1 Axes>"
            ],
            "image/png": "[encoded data removed]"
          },
          "metadata": {
            "needs_background": "light"
          }
        }
      ],
      "source": [
        "sns.distplot(mall_customers['Annual Income (k$)'])"
      ]
    },
    {
      "cell_type": "code",
      "execution_count": 24,
      "id": "c54b1578",
      "metadata": {
        "colab": {
          "base_uri": "https://localhost:8080/",
          "height": 351
        },
        "id": "c54b1578",
        "outputId": "7c48874e-54c0-4886-8a0d-bdcabeb7da4a"
      },
      "outputs": [
        {
          "output_type": "stream",
          "name": "stderr",
          "text": [
            "/usr/local/lib/python3.7/dist-packages/seaborn/_decorators.py:43: FutureWarning: Pass the following variable as a keyword arg: x. From version 0.12, the only valid positional argument will be `data`, and passing other arguments without an explicit keyword will result in an error or misinterpretation.\n",
            "  FutureWarning\n"
          ]
        },
        {
          "output_type": "execute_result",
          "data": {
            "text/plain": [
              "<matplotlib.axes._subplots.AxesSubplot at 0x7f030472fad0>"
            ]
          },
          "metadata": {},
          "execution_count": 24
        },
        {
          "output_type": "display_data",
          "data": {
            "text/plain": [
              "<Figure size 432x288 with 1 Axes>"
            ],
            "image/png": "[encoded data removed]"
          },
          "metadata": {
            "needs_background": "light"
          }
        }
      ],
      "source": [
        "sns.countplot(mall_customers['Gender'])"
      ]
    },
    {
      "cell_type": "code",
      "execution_count": 25,
      "id": "a095baf9",
      "metadata": {
        "colab": {
          "base_uri": "https://localhost:8080/",
          "height": 351
        },
        "id": "a095baf9",
        "outputId": "2b7b4193-9a02-48a4-b02c-df6a6d616c6b"
      },
      "outputs": [
        {
          "output_type": "stream",
          "name": "stderr",
          "text": [
            "/usr/local/lib/python3.7/dist-packages/seaborn/_decorators.py:43: FutureWarning: Pass the following variables as keyword args: x, y. From version 0.12, the only valid positional argument will be `data`, and passing other arguments without an explicit keyword will result in an error or misinterpretation.\n",
            "  FutureWarning\n"
          ]
        },
        {
          "output_type": "execute_result",
          "data": {
            "text/plain": [
              "<matplotlib.axes._subplots.AxesSubplot at 0x7f0304717350>"
            ]
          },
          "metadata": {},
          "execution_count": 25
        },
        {
          "output_type": "display_data",
          "data": {
            "text/plain": [
              "<Figure size 432x288 with 1 Axes>"
            ],
            "image/png": "[encoded data removed]"
          },
          "metadata": {
            "needs_background": "light"
          }
        }
      ],
      "source": [
        "#bivariate analysis\n",
        "sns.lineplot(mall_customers['Age'],mall_customers['Spending Score (1-100)'])"
      ]
    },
    {
      "cell_type": "code",
      "execution_count": 26,
      "id": "417c3f6c",
      "metadata": {
        "colab": {
          "base_uri": "https://localhost:8080/",
          "height": 351
        },
        "id": "417c3f6c",
        "outputId": "96d9f7e6-c919-4d38-e593-c57ea12ff65a"
      },
      "outputs": [
        {
          "output_type": "stream",
          "name": "stderr",
          "text": [
            "/usr/local/lib/python3.7/dist-packages/seaborn/_decorators.py:43: FutureWarning: Pass the following variables as keyword args: x, y. From version 0.12, the only valid positional argument will be `data`, and passing other arguments without an explicit keyword will result in an error or misinterpretation.\n",
            "  FutureWarning\n"
          ]
        },
        {
          "output_type": "execute_result",
          "data": {
            "text/plain": [
              "<matplotlib.axes._subplots.AxesSubplot at 0x7f0304629810>"
            ]
          },
          "metadata": {},
          "execution_count": 26
        },
        {
          "output_type": "display_data",
          "data": {
            "text/plain": [
              "<Figure size 432x288 with 1 Axes>"
            ],
            "image/png": "[encoded data removed]"
          },
          "metadata": {
            "needs_background": "light"
          }
        }
      ],
      "source": [
        "sns.scatterplot(mall_customers['Age'],mall_customers['Annual Income (k$)'],hue=mall_customers[\"Gender\"])"
      ]
    },
    {
      "cell_type": "code",
      "execution_count": 27,
      "id": "58c96735",
      "metadata": {
        "colab": {
          "base_uri": "https://localhost:8080/",
          "height": 567
        },
        "id": "58c96735",
        "outputId": "0cb0d957-ed36-4837-da0a-47465270123f"
      },
      "outputs": [
        {
          "output_type": "execute_result",
          "data": {
            "text/plain": [
              "<seaborn.axisgrid.PairGrid at 0x7f030459ec10>"
            ]
          },
          "metadata": {},
          "execution_count": 27
        },
        {
          "output_type": "display_data",
          "data": {
            "text/plain": [
              "<Figure size 612.125x540 with 12 Axes>"
            ],
            "image/png": "[encoded data removed]"
          },
          "metadata": {
            "needs_background": "light"
          }
        }
      ],
      "source": [
        "#Multivariate Analysis\n",
        "\n",
        "sns.pairplot(mall_customers,hue='Gender')"
      ]
    },
    {
      "cell_type": "code",
      "execution_count": 28,
      "id": "140103f3",
      "metadata": {
        "colab": {
          "base_uri": "https://localhost:8080/",
          "height": 394
        },
        "id": "140103f3",
        "outputId": "c5e39e9d-c564-41e1-adee-046cdb55f156"
      },
      "outputs": [
        {
          "output_type": "execute_result",
          "data": {
            "text/plain": [
              "<matplotlib.axes._subplots.AxesSubplot at 0x7f03044e2810>"
            ]
          },
          "metadata": {},
          "execution_count": 28
        },
        {
          "output_type": "display_data",
          "data": {
            "text/plain": [
              "<Figure size 432x288 with 2 Axes>"
            ],
            "image/png": "[encoded data removed]"
          },
          "metadata": {
            "needs_background": "light"
          }
        }
      ],
      "source": [
        "sns.heatmap(mall_customers.corr(),annot=True)"
      ]
    },
    {
      "cell_type": "code",
      "execution_count": 29,
      "id": "e53c0565",
      "metadata": {
        "colab": {
          "base_uri": "https://localhost:8080/",
          "height": 300
        },
        "id": "e53c0565",
        "outputId": "365d3925-94b3-4673-f694-e5e76e9b43ff"
      },
      "outputs": [
        {
          "output_type": "execute_result",
          "data": {
            "text/plain": [
              "              Age  Annual Income (k$)  Spending Score (1-100)\n",
              "count  200.000000          200.000000              200.000000\n",
              "mean    38.850000           60.560000               50.200000\n",
              "std     13.969007           26.264721               25.823522\n",
              "min     18.000000           15.000000                1.000000\n",
              "25%     28.750000           41.500000               34.750000\n",
              "50%     36.000000           61.500000               50.000000\n",
              "75%     49.000000           78.000000               73.000000\n",
              "max     70.000000          137.000000               99.000000"
            ],
            "text/html": [
              "\n",
              "  <div id=\"df-60f2187c-3d3f-4c3f-bee8-6e42117cb304\">\n",
              "    <div class=\"colab-df-container\">\n",
              "      <div>\n",
              "<style scoped>\n",
              "    .dataframe tbody tr th:only-of-type {\n",
              "        vertical-align: middle;\n",
              "    }\n",
              "\n",
              "    .dataframe tbody tr th {\n",
              "        vertical-align: top;\n",
              "    }\n",
              "\n",
              "    .dataframe thead th {\n",
              "        text-align: right;\n",
              "    }\n",
              "</style>\n",
              "<table border=\"1\" class=\"dataframe\">\n",
              "  <thead>\n",
              "    <tr style=\"text-align: right;\">\n",
              "      <th></th>\n",
              "      <th>Age</th>\n",
              "      <th>Annual Income (k$)</th>\n",
              "      <th>Spending Score (1-100)</th>\n",
              "    </tr>\n",
              "  </thead>\n",
              "  <tbody>\n",
              "    <tr>\n",
              "      <th>count</th>\n",
              "      <td>200.000000</td>\n",
              "      <td>200.000000</td>\n",
              "      <td>200.000000</td>\n",
              "    </tr>\n",
              "    <tr>\n",
              "      <th>mean</th>\n",
              "      <td>38.850000</td>\n",
              "      <td>60.560000</td>\n",
              "      <td>50.200000</td>\n",
              "    </tr>\n",
              "    <tr>\n",
              "      <th>std</th>\n",
              "      <td>13.969007</td>\n",
              "      <td>26.264721</td>\n",
              "      <td>25.823522</td>\n",
              "    </tr>\n",
              "    <tr>\n",
              "      <th>min</th>\n",
              "      <td>18.000000</td>\n",
              "      <td>15.000000</td>\n",
              "      <td>1.000000</td>\n",
              "    </tr>\n",
              "    <tr>\n",
              "      <th>25%</th>\n",
              "      <td>28.750000</td>\n",
              "      <td>41.500000</td>\n",
              "      <td>34.750000</td>\n",
              "    </tr>\n",
              "    <tr>\n",
              "      <th>50%</th>\n",
              "      <td>36.000000</td>\n",
              "      <td>61.500000</td>\n",
              "      <td>50.000000</td>\n",
              "    </tr>\n",
              "    <tr>\n",
              "      <th>75%</th>\n",
              "      <td>49.000000</td>\n",
              "      <td>78.000000</td>\n",
              "      <td>73.000000</td>\n",
              "    </tr>\n",
              "    <tr>\n",
              "      <th>max</th>\n",
              "      <td>70.000000</td>\n",
              "      <td>137.000000</td>\n",
              "      <td>99.000000</td>\n",
              "    </tr>\n",
              "  </tbody>\n",
              "</table>\n",
              "</div>\n",
              "      <button class=\"colab-df-convert\" onclick=\"convertToInteractive('df-60f2187c-3d3f-4c3f-bee8-6e42117cb304')\"\n",
              "              title=\"Convert this dataframe to an interactive table.\"\n",
              "              style=\"display:none;\">\n",
              "        \n",
              "  <svg xmlns=\"http://www.w3.org/2000/svg\" height=\"24px\"viewBox=\"0 0 24 24\"\n",
              "       width=\"24px\">\n",
              "    <path d=\"M0 0h24v24H0V0z\" fill=\"none\"/>\n",
              "    <path d=\"M18.56 5.44l.94 2.06.94-2.06 2.06-.94-2.06-.94-.94-2.06-.94 2.06-2.06.94zm-11 1L8.5 8.5l.94-2.06 2.06-.94-2.06-.94L8.5 2.5l-.94 2.06-2.06.94zm10 10l.94 2.06.94-2.06 2.06-.94-2.06-.94-.94-2.06-.94 2.06-2.06.94z\"/><path d=\"M17.41 7.96l-1.37-1.37c-.4-.4-.92-.59-1.43-.59-.52 0-1.04.2-1.43.59L10.3 9.45l-7.72 7.72c-.78.78-.78 2.05 0 2.83L4 21.41c.39.39.9.59 1.41.59.51 0 1.02-.2 1.41-.59l7.78-7.78 2.81-2.81c.8-.78.8-2.07 0-2.86zM5.41 20L4 18.59l7.72-7.72 1.47 1.35L5.41 20z\"/>\n",
              "  </svg>\n",
              "      </button>\n",
              "      \n",
              "  <style>\n",
              "    .colab-df-container {\n",
              "      display:flex;\n",
              "      flex-wrap:wrap;\n",
              "      gap: 12px;\n",
              "    }\n",
              "\n",
              "    .colab-df-convert {\n",
              "      background-color: #E8F0FE;\n",
              "      border: none;\n",
              "      border-radius: 50%;\n",
              "      cursor: pointer;\n",
              "      display: none;\n",
              "      fill: #1967D2;\n",
              "      height: 32px;\n",
              "      padding: 0 0 0 0;\n",
              "      width: 32px;\n",
              "    }\n",
              "\n",
              "    .colab-df-convert:hover {\n",
              "      background-color: #E2EBFA;\n",
              "      box-shadow: 0px 1px 2px rgba(60, 64, 67, 0.3), 0px 1px 3px 1px rgba(60, 64, 67, 0.15);\n",
              "      fill: #174EA6;\n",
              "    }\n",
              "\n",
              "    [theme=dark] .colab-df-convert {\n",
              "      background-color: #3B4455;\n",
              "      fill: #D2E3FC;\n",
              "    }\n",
              "\n",
              "    [theme=dark] .colab-df-convert:hover {\n",
              "      background-color: #434B5C;\n",
              "      box-shadow: 0px 1px 3px 1px rgba(0, 0, 0, 0.15);\n",
              "      filter: drop-shadow(0px 1px 2px rgba(0, 0, 0, 0.3));\n",
              "      fill: #FFFFFF;\n",
              "    }\n",
              "  </style>\n",
              "\n",
              "      <script>\n",
              "        const buttonEl =\n",
              "          document.querySelector('#df-60f2187c-3d3f-4c3f-bee8-6e42117cb304 button.colab-df-convert');\n",
              "        buttonEl.style.display =\n",
              "          google.colab.kernel.accessAllowed ? 'block' : 'none';\n",
              "\n",
              "        async function convertToInteractive(key) {\n",
              "          const element = document.querySelector('#df-60f2187c-3d3f-4c3f-bee8-6e42117cb304');\n",
              "          const dataTable =\n",
              "            await google.colab.kernel.invokeFunction('convertToInteractive',\n",
              "                                                     [key], {});\n",
              "          if (!dataTable) return;\n",
              "\n",
              "          const docLinkHtml = 'Like what you see? Visit the ' +\n",
              "            '<a target=\"_blank\" href=https://colab.research.google.com/notebooks/data_table.ipynb>data table notebook</a>'\n",
              "            + ' to learn more about interactive tables.';\n",
              "          element.innerHTML = '';\n",
              "          dataTable['output_type'] = 'display_data';\n",
              "          await google.colab.output.renderOutput(dataTable, element);\n",
              "          const docLink = document.createElement('div');\n",
              "          docLink.innerHTML = docLinkHtml;\n",
              "          element.appendChild(docLink);\n",
              "        }\n",
              "      </script>\n",
              "    </div>\n",
              "  </div>\n",
              "  "
            ]
          },
          "metadata": {},
          "execution_count": 29
        }
      ],
      "source": [
        "#descriptive analysis\n",
        "mall_customers.describe()"
      ]
    },
    {
      "cell_type": "code",
      "execution_count": 30,
      "id": "21d726f1",
      "metadata": {
        "colab": {
          "base_uri": "https://localhost:8080/"
        },
        "id": "21d726f1",
        "outputId": "cf55bfbe-8fce-4844-bc88-d238f498f102"
      },
      "outputs": [
        {
          "output_type": "execute_result",
          "data": {
            "text/plain": [
              "Gender                    0\n",
              "Age                       0\n",
              "Annual Income (k$)        0\n",
              "Spending Score (1-100)    0\n",
              "dtype: int64"
            ]
          },
          "metadata": {},
          "execution_count": 30
        }
      ],
      "source": [
        "#check missing values\n",
        "mall_customers.isnull().sum() #no null values"
      ]
    },
    {
      "cell_type": "code",
      "execution_count": 31,
      "id": "fc4aaf65",
      "metadata": {
        "colab": {
          "base_uri": "https://localhost:8080/",
          "height": 351
        },
        "id": "fc4aaf65",
        "outputId": "531f2a3a-48b6-4250-99c6-9c5695eff463"
      },
      "outputs": [
        {
          "output_type": "stream",
          "name": "stderr",
          "text": [
            "/usr/local/lib/python3.7/dist-packages/seaborn/_decorators.py:43: FutureWarning: Pass the following variable as a keyword arg: x. From version 0.12, the only valid positional argument will be `data`, and passing other arguments without an explicit keyword will result in an error or misinterpretation.\n",
            "  FutureWarning\n"
          ]
        },
        {
          "output_type": "execute_result",
          "data": {
            "text/plain": [
              "<matplotlib.axes._subplots.AxesSubplot at 0x7f0300075910>"
            ]
          },
          "metadata": {},
          "execution_count": 31
        },
        {
          "output_type": "display_data",
          "data": {
            "text/plain": [
              "<Figure size 432x288 with 1 Axes>"
            ],
            "image/png": "[encoded data removed]"
          },
          "metadata": {
            "needs_background": "light"
          }
        }
      ],
      "source": [
        "#finding outliers\n",
        "sns.boxplot(mall_customers['Annual Income (k$)'])"
      ]
    },
    {
      "cell_type": "code",
      "execution_count": 33,
      "id": "9e8a0c63",
      "metadata": {
        "colab": {
          "base_uri": "https://localhost:8080/"
        },
        "id": "9e8a0c63",
        "outputId": "b8f882be-e8b2-494e-d938-294a99cfacca"
      },
      "outputs": [
        {
          "output_type": "execute_result",
          "data": {
            "text/plain": [
              "36.5"
            ]
          },
          "metadata": {},
          "execution_count": 33
        }
      ],
      "source": [
        "#iqr median replacement\n",
        "q1=mall_customers['Annual Income (k$)'].quantile(0.25)\n",
        "q3=mall_customers['Annual Income (k$)'].quantile(0.75)\n",
        "iqr=q3-q1\n",
        "iqr"
      ]
    },
    {
      "cell_type": "code",
      "execution_count": 34,
      "id": "690b6118",
      "metadata": {
        "colab": {
          "base_uri": "https://localhost:8080/"
        },
        "id": "690b6118",
        "outputId": "1d2bdd57-711b-4425-f090-7e1a505f0063"
      },
      "outputs": [
        {
          "output_type": "stream",
          "name": "stdout",
          "text": [
            "132.75 -13.25\n"
          ]
        }
      ],
      "source": [
        "upperlimit=q3+1.5*iqr\n",
        "lowerlimit=q1-1.5*iqr\n",
        "print(upperlimit,lowerlimit)"
      ]
    },
    {
      "cell_type": "code",
      "execution_count": 35,
      "id": "c4e33d2a",
      "metadata": {
        "id": "c4e33d2a"
      },
      "outputs": [],
      "source": [
        "mall_customers[\"Annual Income (k$)\"]=np.where(mall_customers[\"Annual Income (k$)\"]>upperlimit,mall_customers['Annual Income (k$)'].median(),mall_customers[\"Annual Income (k$)\"])"
      ]
    },
    {
      "cell_type": "code",
      "execution_count": 36,
      "id": "22688f4f",
      "metadata": {
        "colab": {
          "base_uri": "https://localhost:8080/",
          "height": 351
        },
        "id": "22688f4f",
        "outputId": "4ab487b1-cb53-4cb7-effc-deb910f8f3d6"
      },
      "outputs": [
        {
          "output_type": "stream",
          "name": "stderr",
          "text": [
            "/usr/local/lib/python3.7/dist-packages/seaborn/_decorators.py:43: FutureWarning: Pass the following variable as a keyword arg: x. From version 0.12, the only valid positional argument will be `data`, and passing other arguments without an explicit keyword will result in an error or misinterpretation.\n",
            "  FutureWarning\n"
          ]
        },
        {
          "output_type": "execute_result",
          "data": {
            "text/plain": [
              "<matplotlib.axes._subplots.AxesSubplot at 0x7f030000c650>"
            ]
          },
          "metadata": {},
          "execution_count": 36
        },
        {
          "output_type": "display_data",
          "data": {
            "text/plain": [
              "<Figure size 432x288 with 1 Axes>"
            ],
            "image/png": "[encoded data removed]"
          },
          "metadata": {
            "needs_background": "light"
          }
        }
      ],
      "source": [
        "sns.boxplot(mall_customers['Annual Income (k$)'])"
      ]
    },
    {
      "cell_type": "code",
      "execution_count": 37,
      "id": "3c82250d",
      "metadata": {
        "colab": {
          "base_uri": "https://localhost:8080/",
          "height": 351
        },
        "id": "3c82250d",
        "outputId": "054509c0-ba40-4f75-f035-730b07d834e8"
      },
      "outputs": [
        {
          "output_type": "stream",
          "name": "stderr",
          "text": [
            "/usr/local/lib/python3.7/dist-packages/seaborn/_decorators.py:43: FutureWarning: Pass the following variable as a keyword arg: x. From version 0.12, the only valid positional argument will be `data`, and passing other arguments without an explicit keyword will result in an error or misinterpretation.\n",
            "  FutureWarning\n"
          ]
        },
        {
          "output_type": "execute_result",
          "data": {
            "text/plain": [
              "<matplotlib.axes._subplots.AxesSubplot at 0x7f02fff630d0>"
            ]
          },
          "metadata": {},
          "execution_count": 37
        },
        {
          "output_type": "display_data",
          "data": {
            "text/plain": [
              "<Figure size 432x288 with 1 Axes>"
            ],
            "image/png": "[encoded data removed]"
          },
          "metadata": {
            "needs_background": "light"
          }
        }
      ],
      "source": [
        "sns.boxplot(mall_customers['Spending Score (1-100)'])"
      ]
    },
    {
      "cell_type": "code",
      "execution_count": 38,
      "id": "291d76af",
      "metadata": {
        "colab": {
          "base_uri": "https://localhost:8080/",
          "height": 351
        },
        "id": "291d76af",
        "outputId": "f87a4acf-d7b6-4dc0-d496-701a05d05b89"
      },
      "outputs": [
        {
          "output_type": "stream",
          "name": "stderr",
          "text": [
            "/usr/local/lib/python3.7/dist-packages/seaborn/_decorators.py:43: FutureWarning: Pass the following variable as a keyword arg: x. From version 0.12, the only valid positional argument will be `data`, and passing other arguments without an explicit keyword will result in an error or misinterpretation.\n",
            "  FutureWarning\n"
          ]
        },
        {
          "output_type": "execute_result",
          "data": {
            "text/plain": [
              "<matplotlib.axes._subplots.AxesSubplot at 0x7f02fff520d0>"
            ]
          },
          "metadata": {},
          "execution_count": 38
        },
        {
          "output_type": "display_data",
          "data": {
            "text/plain": [
              "<Figure size 432x288 with 1 Axes>"
            ],
            "image/png": "[encoded data removed]"
          },
          "metadata": {
            "needs_background": "light"
          }
        }
      ],
      "source": [
        "sns.boxplot(mall_customers['Age'])"
      ]
    },
    {
      "cell_type": "code",
      "execution_count": 39,
      "id": "ae4c3cd8",
      "metadata": {
        "colab": {
          "base_uri": "https://localhost:8080/"
        },
        "id": "ae4c3cd8",
        "outputId": "7011815b-9138-4ef7-86cc-71d94a059385"
      },
      "outputs": [
        {
          "output_type": "execute_result",
          "data": {
            "text/plain": [
              "(200, 4)"
            ]
          },
          "metadata": {},
          "execution_count": 39
        }
      ],
      "source": [
        "mall_customers.shape"
      ]
    },
    {
      "cell_type": "code",
      "execution_count": 40,
      "id": "f3b87227",
      "metadata": {
        "colab": {
          "base_uri": "https://localhost:8080/",
          "height": 206
        },
        "id": "f3b87227",
        "outputId": "a5dee346-de86-4bdf-8d47-53ecc7f2e4c6"
      },
      "outputs": [
        {
          "output_type": "execute_result",
          "data": {
            "text/plain": [
              "   Gender  Age  Annual Income (k$)  Spending Score (1-100)\n",
              "0       1   19                15.0                      39\n",
              "1       1   21                15.0                      81\n",
              "2       0   20                16.0                       6\n",
              "3       0   23                16.0                      77\n",
              "4       0   31                17.0                      40"
            ],
            "text/html": [
              "\n",
              "  <div id=\"df-b8b86ef3-5a0b-45f1-960d-033b188765dc\">\n",
              "    <div class=\"colab-df-container\">\n",
              "      <div>\n",
              "<style scoped>\n",
              "    .dataframe tbody tr th:only-of-type {\n",
              "        vertical-align: middle;\n",
              "    }\n",
              "\n",
              "    .dataframe tbody tr th {\n",
              "        vertical-align: top;\n",
              "    }\n",
              "\n",
              "    .dataframe thead th {\n",
              "        text-align: right;\n",
              "    }\n",
              "</style>\n",
              "<table border=\"1\" class=\"dataframe\">\n",
              "  <thead>\n",
              "    <tr style=\"text-align: right;\">\n",
              "      <th></th>\n",
              "      <th>Gender</th>\n",
              "      <th>Age</th>\n",
              "      <th>Annual Income (k$)</th>\n",
              "      <th>Spending Score (1-100)</th>\n",
              "    </tr>\n",
              "  </thead>\n",
              "  <tbody>\n",
              "    <tr>\n",
              "      <th>0</th>\n",
              "      <td>1</td>\n",
              "      <td>19</td>\n",
              "      <td>15.0</td>\n",
              "      <td>39</td>\n",
              "    </tr>\n",
              "    <tr>\n",
              "      <th>1</th>\n",
              "      <td>1</td>\n",
              "      <td>21</td>\n",
              "      <td>15.0</td>\n",
              "      <td>81</td>\n",
              "    </tr>\n",
              "    <tr>\n",
              "      <th>2</th>\n",
              "      <td>0</td>\n",
              "      <td>20</td>\n",
              "      <td>16.0</td>\n",
              "      <td>6</td>\n",
              "    </tr>\n",
              "    <tr>\n",
              "      <th>3</th>\n",
              "      <td>0</td>\n",
              "      <td>23</td>\n",
              "      <td>16.0</td>\n",
              "      <td>77</td>\n",
              "    </tr>\n",
              "    <tr>\n",
              "      <th>4</th>\n",
              "      <td>0</td>\n",
              "      <td>31</td>\n",
              "      <td>17.0</td>\n",
              "      <td>40</td>\n",
              "    </tr>\n",
              "  </tbody>\n",
              "</table>\n",
              "</div>\n",
              "      <button class=\"colab-df-convert\" onclick=\"convertToInteractive('df-b8b86ef3-5a0b-45f1-960d-033b188765dc')\"\n",
              "              title=\"Convert this dataframe to an interactive table.\"\n",
              "              style=\"display:none;\">\n",
              "        \n",
              "  <svg xmlns=\"http://www.w3.org/2000/svg\" height=\"24px\"viewBox=\"0 0 24 24\"\n",
              "       width=\"24px\">\n",
              "    <path d=\"M0 0h24v24H0V0z\" fill=\"none\"/>\n",
              "    <path d=\"M18.56 5.44l.94 2.06.94-2.06 2.06-.94-2.06-.94-.94-2.06-.94 2.06-2.06.94zm-11 1L8.5 8.5l.94-2.06 2.06-.94-2.06-.94L8.5 2.5l-.94 2.06-2.06.94zm10 10l.94 2.06.94-2.06 2.06-.94-2.06-.94-.94-2.06-.94 2.06-2.06.94z\"/><path d=\"M17.41 7.96l-1.37-1.37c-.4-.4-.92-.59-1.43-.59-.52 0-1.04.2-1.43.59L10.3 9.45l-7.72 7.72c-.78.78-.78 2.05 0 2.83L4 21.41c.39.39.9.59 1.41.59.51 0 1.02-.2 1.41-.59l7.78-7.78 2.81-2.81c.8-.78.8-2.07 0-2.86zM5.41 20L4 18.59l7.72-7.72 1.47 1.35L5.41 20z\"/>\n",
              "  </svg>\n",
              "      </button>\n",
              "      \n",
              "  <style>\n",
              "    .colab-df-container {\n",
              "      display:flex;\n",
              "      flex-wrap:wrap;\n",
              "      gap: 12px;\n",
              "    }\n",
              "\n",
              "    .colab-df-convert {\n",
              "      background-color: #E8F0FE;\n",
              "      border: none;\n",
              "      border-radius: 50%;\n",
              "      cursor: pointer;\n",
              "      display: none;\n",
              "      fill: #1967D2;\n",
              "      height: 32px;\n",
              "      padding: 0 0 0 0;\n",
              "      width: 32px;\n",
              "    }\n",
              "\n",
              "    .colab-df-convert:hover {\n",
              "      background-color: #E2EBFA;\n",
              "      box-shadow: 0px 1px 2px rgba(60, 64, 67, 0.3), 0px 1px 3px 1px rgba(60, 64, 67, 0.15);\n",
              "      fill: #174EA6;\n",
              "    }\n",
              "\n",
              "    [theme=dark] .colab-df-convert {\n",
              "      background-color: #3B4455;\n",
              "      fill: #D2E3FC;\n",
              "    }\n",
              "\n",
              "    [theme=dark] .colab-df-convert:hover {\n",
              "      background-color: #434B5C;\n",
              "      box-shadow: 0px 1px 3px 1px rgba(0, 0, 0, 0.15);\n",
              "      filter: drop-shadow(0px 1px 2px rgba(0, 0, 0, 0.3));\n",
              "      fill: #FFFFFF;\n",
              "    }\n",
              "  </style>\n",
              "\n",
              "      <script>\n",
              "        const buttonEl =\n",
              "          document.querySelector('#df-b8b86ef3-5a0b-45f1-960d-033b188765dc button.colab-df-convert');\n",
              "        buttonEl.style.display =\n",
              "          google.colab.kernel.accessAllowed ? 'block' : 'none';\n",
              "\n",
              "        async function convertToInteractive(key) {\n",
              "          const element = document.querySelector('#df-b8b86ef3-5a0b-45f1-960d-033b188765dc');\n",
              "          const dataTable =\n",
              "            await google.colab.kernel.invokeFunction('convertToInteractive',\n",
              "                                                     [key], {});\n",
              "          if (!dataTable) return;\n",
              "\n",
              "          const docLinkHtml = 'Like what you see? Visit the ' +\n",
              "            '<a target=\"_blank\" href=https://colab.research.google.com/notebooks/data_table.ipynb>data table notebook</a>'\n",
              "            + ' to learn more about interactive tables.';\n",
              "          element.innerHTML = '';\n",
              "          dataTable['output_type'] = 'display_data';\n",
              "          await google.colab.output.renderOutput(dataTable, element);\n",
              "          const docLink = document.createElement('div');\n",
              "          docLink.innerHTML = docLinkHtml;\n",
              "          element.appendChild(docLink);\n",
              "        }\n",
              "      </script>\n",
              "    </div>\n",
              "  </div>\n",
              "  "
            ]
          },
          "metadata": {},
          "execution_count": 40
        }
      ],
      "source": [
        "#perform encoding for categorical data\n",
        "from sklearn.preprocessing import LabelEncoder\n",
        "le=LabelEncoder()\n",
        "mall_customers['Gender']=le.fit_transform(mall_customers['Gender'])\n",
        "mall_customers.head() # male-1 female-0"
      ]
    },
    {
      "cell_type": "code",
      "execution_count": 41,
      "id": "4f6acb2d",
      "metadata": {
        "colab": {
          "base_uri": "https://localhost:8080/"
        },
        "id": "4f6acb2d",
        "outputId": "756b0d90-331f-49fc-d529-e0675b78e0fc"
      },
      "outputs": [
        {
          "output_type": "execute_result",
          "data": {
            "text/plain": [
              "array([[ 1.12815215, -1.42456879, -1.78877673, -0.43480148],\n",
              "       [ 1.12815215, -1.28103541, -1.78877673,  1.19570407],\n",
              "       [-0.88640526, -1.3528021 , -1.74885313, -1.71591298],\n",
              "       [-0.88640526, -1.13750203, -1.74885313,  1.04041783],\n",
              "       [-0.88640526, -0.56336851, -1.70892954, -0.39597992],\n",
              "       [-0.88640526, -1.20926872, -1.70892954,  1.00159627],\n",
              "       [-0.88640526, -0.27630176, -1.66900594, -1.71591298],\n",
              "       [-0.88640526, -1.13750203, -1.66900594,  1.70038436],\n",
              "       [ 1.12815215,  1.80493225, -1.62908235, -1.83237767],\n",
              "       [-0.88640526, -0.6351352 , -1.62908235,  0.84631002],\n",
              "       [ 1.12815215,  2.02023231, -1.62908235, -1.4053405 ],\n",
              "       [-0.88640526, -0.27630176, -1.62908235,  1.89449216],\n",
              "       [-0.88640526,  1.37433211, -1.58915875, -1.36651894],\n",
              "       [-0.88640526, -1.06573534, -1.58915875,  1.04041783],\n",
              "       [ 1.12815215, -0.13276838, -1.58915875, -1.44416206],\n",
              "       [ 1.12815215, -1.20926872, -1.58915875,  1.11806095],\n",
              "       [-0.88640526, -0.27630176, -1.54923515, -0.59008772],\n",
              "       [ 1.12815215, -1.3528021 , -1.54923515,  0.61338066],\n",
              "       [ 1.12815215,  0.94373197, -1.46938796, -0.82301709],\n",
              "       [-0.88640526, -0.27630176, -1.46938796,  1.8556706 ],\n",
              "       [ 1.12815215, -0.27630176, -1.42946436, -0.59008772],\n",
              "       [ 1.12815215, -0.99396865, -1.42946436,  0.88513158],\n",
              "       [-0.88640526,  0.51313183, -1.38954077, -1.75473454],\n",
              "       [ 1.12815215, -0.56336851, -1.38954077,  0.88513158],\n",
              "       [-0.88640526,  1.08726535, -1.26976998, -1.4053405 ],\n",
              "       [ 1.12815215, -0.70690189, -1.26976998,  1.23452563],\n",
              "       [-0.88640526,  0.44136514, -1.26976998, -0.7065524 ],\n",
              "       [ 1.12815215, -0.27630176, -1.26976998,  0.41927286],\n",
              "       [-0.88640526,  0.08253169, -1.22984638, -0.74537397],\n",
              "       [-0.88640526, -1.13750203, -1.22984638,  1.42863343],\n",
              "       [ 1.12815215,  1.51786549, -1.18992279, -1.7935561 ],\n",
              "       [-0.88640526, -1.28103541, -1.18992279,  0.88513158],\n",
              "       [ 1.12815215,  1.01549866, -1.070152  , -1.7935561 ],\n",
              "       [ 1.12815215, -1.49633548, -1.070152  ,  1.62274124],\n",
              "       [-0.88640526,  0.7284319 , -1.070152  , -1.4053405 ],\n",
              "       [-0.88640526, -1.28103541, -1.070152  ,  1.19570407],\n",
              "       [-0.88640526,  0.22606507, -1.0302284 , -1.28887582],\n",
              "       [-0.88640526, -0.6351352 , -1.0302284 ,  0.88513158],\n",
              "       [-0.88640526, -0.20453507, -0.91045761, -0.93948177],\n",
              "       [-0.88640526, -1.3528021 , -0.91045761,  0.96277471],\n",
              "       [-0.88640526,  1.87669894, -0.87053402, -0.59008772],\n",
              "       [ 1.12815215, -1.06573534, -0.87053402,  1.62274124],\n",
              "       [ 1.12815215,  0.65666521, -0.83061042, -0.55126616],\n",
              "       [-0.88640526, -0.56336851, -0.83061042,  0.41927286],\n",
              "       [-0.88640526,  0.7284319 , -0.83061042, -0.86183865],\n",
              "       [-0.88640526, -1.06573534, -0.83061042,  0.5745591 ],\n",
              "       [-0.88640526,  0.80019859, -0.79068682,  0.18634349],\n",
              "       [-0.88640526, -0.85043527, -0.79068682, -0.12422899],\n",
              "       [-0.88640526, -0.70690189, -0.79068682, -0.3183368 ],\n",
              "       [-0.88640526, -0.56336851, -0.79068682, -0.3183368 ],\n",
              "       [-0.88640526,  0.7284319 , -0.71083963,  0.06987881],\n",
              "       [ 1.12815215, -0.41983513, -0.71083963,  0.38045129],\n",
              "       [-0.88640526, -0.56336851, -0.67091604,  0.14752193],\n",
              "       [ 1.12815215,  1.4460988 , -0.67091604,  0.38045129],\n",
              "       [-0.88640526,  0.80019859, -0.67091604, -0.20187212],\n",
              "       [ 1.12815215,  0.58489852, -0.67091604, -0.35715836],\n",
              "       [-0.88640526,  0.87196528, -0.63099244, -0.00776431],\n",
              "       [ 1.12815215,  2.16376569, -0.63099244, -0.16305055],\n",
              "       [-0.88640526, -0.85043527, -0.55114525,  0.03105725],\n",
              "       [ 1.12815215,  1.01549866, -0.55114525, -0.16305055],\n",
              "       [ 1.12815215,  2.23553238, -0.55114525,  0.22516505],\n",
              "       [ 1.12815215, -1.42456879, -0.55114525,  0.18634349],\n",
              "       [-0.88640526,  2.02023231, -0.51122165,  0.06987881],\n",
              "       [-0.88640526,  1.08726535, -0.51122165,  0.34162973],\n",
              "       [ 1.12815215,  1.73316556, -0.47129805,  0.03105725],\n",
              "       [ 1.12815215, -1.49633548, -0.47129805,  0.34162973],\n",
              "       [-0.88640526,  0.29783176, -0.47129805, -0.00776431],\n",
              "       [-0.88640526,  2.091999  , -0.47129805, -0.08540743],\n",
              "       [ 1.12815215, -1.42456879, -0.47129805,  0.34162973],\n",
              "       [-0.88640526, -0.49160182, -0.47129805, -0.12422899],\n",
              "       [ 1.12815215,  2.23553238, -0.43137446,  0.18634349],\n",
              "       [-0.88640526,  0.58489852, -0.43137446, -0.3183368 ],\n",
              "       [-0.88640526,  1.51786549, -0.39145086, -0.04658587],\n",
              "       [-0.88640526,  1.51786549, -0.39145086,  0.22516505],\n",
              "       [ 1.12815215,  1.4460988 , -0.23175648, -0.12422899],\n",
              "       [ 1.12815215, -0.92220196, -0.23175648,  0.14752193],\n",
              "       [-0.88640526,  0.44136514, -0.23175648,  0.10870037],\n",
              "       [ 1.12815215,  0.08253169, -0.23175648, -0.08540743],\n",
              "       [-0.88640526, -1.13750203, -0.23175648,  0.06987881],\n",
              "       [-0.88640526,  0.7284319 , -0.23175648, -0.3183368 ],\n",
              "       [ 1.12815215,  1.30256542, -0.23175648,  0.03105725],\n",
              "       [ 1.12815215, -0.06100169, -0.23175648,  0.18634349],\n",
              "       [ 1.12815215,  2.02023231, -0.23175648, -0.35715836],\n",
              "       [-0.88640526,  0.51313183, -0.23175648, -0.24069368],\n",
              "       [-0.88640526, -1.28103541, -0.23175648,  0.26398661],\n",
              "       [ 1.12815215,  0.65666521, -0.23175648, -0.16305055],\n",
              "       [-0.88640526,  1.15903204, -0.11198569,  0.30280817],\n",
              "       [-0.88640526, -1.20926872, -0.11198569,  0.18634349],\n",
              "       [-0.88640526, -0.34806844, -0.07206209,  0.38045129],\n",
              "       [-0.88640526,  0.80019859, -0.07206209, -0.16305055],\n",
              "       [-0.88640526,  2.091999  , -0.03213849,  0.18634349],\n",
              "       [ 1.12815215, -1.49633548, -0.03213849, -0.35715836],\n",
              "       [ 1.12815215,  0.65666521,  0.0077851 , -0.04658587],\n",
              "       [-0.88640526,  0.08253169,  0.0077851 , -0.39597992],\n",
              "       [-0.88640526, -0.49160182,  0.0077851 , -0.3183368 ],\n",
              "       [ 1.12815215, -1.06573534,  0.0077851 ,  0.06987881],\n",
              "       [-0.88640526,  0.58489852,  0.0077851 , -0.12422899],\n",
              "       [-0.88640526, -0.85043527,  0.0077851 , -0.00776431],\n",
              "       [ 1.12815215,  0.65666521,  0.0477087 , -0.3183368 ],\n",
              "       [ 1.12815215, -1.3528021 ,  0.0477087 , -0.04658587],\n",
              "       [-0.88640526, -1.13750203,  0.08763229, -0.35715836],\n",
              "       [-0.88640526,  0.7284319 ,  0.08763229, -0.08540743],\n",
              "       [ 1.12815215,  2.02023231,  0.08763229,  0.34162973],\n",
              "       [ 1.12815215, -0.92220196,  0.08763229,  0.18634349],\n",
              "       [ 1.12815215,  0.7284319 ,  0.08763229,  0.22516505],\n",
              "       [-0.88640526, -1.28103541,  0.08763229, -0.3183368 ],\n",
              "       [-0.88640526,  1.94846562,  0.12755589, -0.00776431],\n",
              "       [ 1.12815215,  1.08726535,  0.12755589, -0.16305055],\n",
              "       [ 1.12815215,  2.091999  ,  0.12755589, -0.27951524],\n",
              "       [ 1.12815215,  1.94846562,  0.12755589, -0.08540743],\n",
              "       [ 1.12815215,  1.87669894,  0.12755589,  0.06987881],\n",
              "       [-0.88640526, -1.42456879,  0.12755589,  0.14752193],\n",
              "       [-0.88640526, -0.06100169,  0.16747949, -0.3183368 ],\n",
              "       [ 1.12815215, -1.42456879,  0.16747949, -0.16305055],\n",
              "       [-0.88640526, -1.49633548,  0.20740308, -0.08540743],\n",
              "       [-0.88640526, -1.42456879,  0.20740308, -0.00776431],\n",
              "       [-0.88640526,  1.73316556,  0.20740308, -0.27951524],\n",
              "       [-0.88640526,  0.7284319 ,  0.20740308,  0.34162973],\n",
              "       [-0.88640526,  0.87196528,  0.28725028, -0.27951524],\n",
              "       [-0.88640526,  0.80019859,  0.28725028,  0.26398661],\n",
              "       [ 1.12815215, -0.85043527,  0.28725028,  0.22516505],\n",
              "       [-0.88640526, -0.06100169,  0.28725028, -0.39597992],\n",
              "       [-0.88640526,  0.08253169,  0.36709747,  0.30280817],\n",
              "       [ 1.12815215,  0.010765  ,  0.36709747,  1.58391968],\n",
              "       [-0.88640526, -1.13750203,  0.40702106, -0.82301709],\n",
              "       [-0.88640526, -0.56336851,  0.40702106,  1.04041783],\n",
              "       [ 1.12815215,  0.29783176,  0.44694466, -0.59008772],\n",
              "       [ 1.12815215,  0.08253169,  0.44694466,  1.73920592],\n",
              "       [ 1.12815215,  1.4460988 ,  0.44694466, -1.52180518],\n",
              "       [ 1.12815215, -0.06100169,  0.44694466,  0.96277471],\n",
              "       [ 1.12815215,  0.58489852,  0.44694466, -1.5994483 ],\n",
              "       [ 1.12815215,  0.010765  ,  0.44694466,  0.96277471],\n",
              "       [-0.88640526, -0.99396865,  0.48686826, -0.62890928],\n",
              "       [-0.88640526, -0.56336851,  0.48686826,  0.80748846],\n",
              "       [ 1.12815215, -1.3528021 ,  0.52679185, -1.75473454],\n",
              "       [-0.88640526, -0.70690189,  0.52679185,  1.46745499],\n",
              "       [-0.88640526,  0.36959845,  0.52679185, -1.67709142],\n",
              "       [ 1.12815215, -0.49160182,  0.52679185,  0.88513158],\n",
              "       [ 1.12815215, -1.42456879,  0.56671545, -1.56062674],\n",
              "       [-0.88640526, -0.27630176,  0.56671545,  0.84631002],\n",
              "       [-0.88640526,  1.30256542,  0.60663905, -1.75473454],\n",
              "       [ 1.12815215, -0.49160182,  0.60663905,  1.6615628 ],\n",
              "       [-0.88640526, -0.77866858,  0.64656264, -0.39597992],\n",
              "       [-0.88640526, -0.49160182,  0.64656264,  1.42863343],\n",
              "       [ 1.12815215, -0.99396865,  0.68648624, -1.48298362],\n",
              "       [ 1.12815215, -0.77866858,  0.68648624,  1.81684904],\n",
              "       [ 1.12815215,  0.65666521,  0.68648624, -0.55126616],\n",
              "       [-0.88640526, -0.49160182,  0.68648624,  0.92395314],\n",
              "       [-0.88640526, -0.34806844,  0.72640983, -1.09476801],\n",
              "       [ 1.12815215, -0.34806844,  0.72640983,  1.54509812],\n",
              "       [ 1.12815215,  0.29783176,  0.72640983, -1.28887582],\n",
              "       [ 1.12815215,  0.010765  ,  0.72640983,  1.46745499],\n",
              "       [-0.88640526,  0.36959845,  0.72640983, -1.17241113],\n",
              "       [-0.88640526, -0.06100169,  0.72640983,  1.00159627],\n",
              "       [-0.88640526,  0.58489852,  0.72640983, -1.32769738],\n",
              "       [-0.88640526, -0.85043527,  0.72640983,  1.50627656],\n",
              "       [ 1.12815215, -0.13276838,  0.72640983, -1.91002079],\n",
              "       [-0.88640526, -0.6351352 ,  0.72640983,  1.07923939],\n",
              "       [ 1.12815215, -0.34806844,  0.72640983, -1.91002079],\n",
              "       [-0.88640526, -0.6351352 ,  0.72640983,  0.88513158],\n",
              "       [-0.88640526,  1.23079873,  0.76633343, -0.59008772],\n",
              "       [-0.88640526, -0.70690189,  0.76633343,  1.27334719],\n",
              "       [ 1.12815215, -1.42456879,  0.84618062, -1.75473454],\n",
              "       [-0.88640526, -0.56336851,  0.84618062,  1.6615628 ],\n",
              "       [ 1.12815215,  0.80019859,  1.00587501, -0.93948177],\n",
              "       [-0.88640526, -0.20453507,  1.00587501,  0.96277471],\n",
              "       [ 1.12815215,  0.22606507,  1.0457986 , -1.17241113],\n",
              "       [-0.88640526, -0.41983513,  1.0457986 ,  1.73920592],\n",
              "       [-0.88640526, -0.20453507,  1.0857222 , -0.90066021],\n",
              "       [ 1.12815215, -0.49160182,  1.0857222 ,  0.49691598],\n",
              "       [ 1.12815215,  0.08253169,  1.0857222 , -1.44416206],\n",
              "       [ 1.12815215, -0.77866858,  1.0857222 ,  0.96277471],\n",
              "       [ 1.12815215, -0.20453507,  1.0857222 , -1.56062674],\n",
              "       [ 1.12815215, -0.20453507,  1.0857222 ,  1.62274124],\n",
              "       [-0.88640526,  0.94373197,  1.1256458 , -1.44416206],\n",
              "       [-0.88640526, -0.6351352 ,  1.1256458 ,  1.38981187],\n",
              "       [ 1.12815215,  1.37433211,  1.1256458 , -1.36651894],\n",
              "       [ 1.12815215, -0.85043527,  1.1256458 ,  0.72984534],\n",
              "       [ 1.12815215,  1.4460988 ,  1.32526378, -1.4053405 ],\n",
              "       [ 1.12815215, -0.27630176,  1.32526378,  1.54509812],\n",
              "       [-0.88640526, -0.13276838,  1.48495816, -0.7065524 ],\n",
              "       [-0.88640526, -0.49160182,  1.48495816,  1.38981187],\n",
              "       [ 1.12815215,  0.51313183,  1.52488176, -1.36651894],\n",
              "       [-0.88640526, -0.70690189,  1.52488176,  1.46745499],\n",
              "       [-0.88640526,  0.15429838,  1.56480536, -0.43480148],\n",
              "       [ 1.12815215, -0.6351352 ,  1.56480536,  1.81684904],\n",
              "       [-0.88640526,  1.08726535,  1.64465255, -1.01712489],\n",
              "       [ 1.12815215, -0.77866858,  1.64465255,  0.69102378],\n",
              "       [-0.88640526,  0.15429838,  1.72449974, -1.28887582],\n",
              "       [-0.88640526, -0.20453507,  1.72449974,  1.35099031],\n",
              "       [-0.88640526, -0.34806844,  1.72449974, -1.05594645],\n",
              "       [-0.88640526, -0.49160182,  1.72449974,  0.72984534],\n",
              "       [ 1.12815215, -0.41983513,  2.1237357 , -1.63826986],\n",
              "       [-0.88640526, -0.06100169,  2.1237357 ,  1.58391968],\n",
              "       [-0.88640526,  0.58489852,  2.40320088, -1.32769738],\n",
              "       [-0.88640526, -0.27630176,  2.40320088,  1.11806095],\n",
              "       [-0.88640526,  0.44136514,  2.64274245, -0.86183865],\n",
              "       [ 1.12815215, -0.49160182,  2.64274245,  0.92395314],\n",
              "       [ 1.12815215, -0.49160182,  0.0676705 , -1.25005425],\n",
              "       [ 1.12815215, -0.6351352 ,  0.0676705 ,  1.27334719]])"
            ]
          },
          "metadata": {},
          "execution_count": 41
        }
      ],
      "source": [
        "#scaling the data\n",
        "from sklearn.preprocessing import StandardScaler\n",
        "sc=StandardScaler()\n",
        "df1=sc.fit_transform(mall_customers)\n",
        "df1"
      ]
    },
    {
      "cell_type": "code",
      "execution_count": 42,
      "id": "ea175e51",
      "metadata": {
        "colab": {
          "base_uri": "https://localhost:8080/"
        },
        "id": "ea175e51",
        "outputId": "e7bd6fd4-9ca7-4083-b1c9-e7ccd973e542"
      },
      "outputs": [
        {
          "output_type": "execute_result",
          "data": {
            "text/plain": [
              "(200, 4)"
            ]
          },
          "metadata": {},
          "execution_count": 42
        }
      ],
      "source": [
        "df1.shape"
      ]
    },
    {
      "cell_type": "code",
      "execution_count": 43,
      "id": "9125c281",
      "metadata": {
        "id": "9125c281"
      },
      "outputs": [],
      "source": [
        "#performing clutering\n",
        "\n",
        "from sklearn.cluster import KMeans\n",
        "\n",
        "error=[]\n",
        "for k in range(1,11):\n",
        "    kmeans=KMeans(n_clusters=k,init='k-means++')\n",
        "    kmeans.fit(df1)\n",
        "    error.append(kmeans.inertia_)"
      ]
    },
    {
      "cell_type": "code",
      "execution_count": 44,
      "id": "59933d89",
      "metadata": {
        "colab": {
          "base_uri": "https://localhost:8080/",
          "height": 295
        },
        "id": "59933d89",
        "outputId": "ede9e314-238f-4444-c487-aba41856f3ec"
      },
      "outputs": [
        {
          "output_type": "display_data",
          "data": {
            "text/plain": [
              "<Figure size 432x288 with 1 Axes>"
            ],
            "image/png": "[encoded data removed]"
          },
          "metadata": {
            "needs_background": "light"
          }
        }
      ],
      "source": [
        "import matplotlib.pyplot as plt\n",
        "plt.plot(range(1,11),error)\n",
        "plt.title('Elbow method')\n",
        "plt.xlabel('no of clus')\n",
        "plt.ylabel('error')\n",
        "plt.grid()\n",
        "plt.show()"
      ]
    },
    {
      "cell_type": "code",
      "execution_count": 45,
      "id": "40afb1a9",
      "metadata": {
        "colab": {
          "base_uri": "https://localhost:8080/"
        },
        "id": "40afb1a9",
        "outputId": "5bb1c6da-3d91-4c1f-e409-6daf0189d55a"
      },
      "outputs": [
        {
          "output_type": "execute_result",
          "data": {
            "text/plain": [
              "array([6, 6, 5, 5, 5, 5, 3, 5, 4, 5, 4, 5, 3, 5, 6, 6, 5, 6, 4, 5, 6, 6,\n",
              "       3, 6, 3, 6, 3, 6, 3, 5, 4, 5, 4, 6, 3, 5, 3, 5, 3, 5, 3, 6, 4, 5,\n",
              "       3, 5, 3, 5, 5, 5, 3, 6, 5, 4, 3, 4, 3, 4, 5, 4, 4, 6, 3, 3, 4, 6,\n",
              "       3, 3, 6, 5, 4, 3, 3, 3, 4, 6, 3, 6, 5, 3, 4, 6, 4, 3, 5, 4, 3, 5,\n",
              "       5, 3, 3, 6, 4, 3, 5, 6, 3, 5, 4, 6, 5, 3, 4, 6, 4, 5, 3, 4, 4, 4,\n",
              "       4, 5, 7, 6, 5, 5, 3, 3, 3, 3, 6, 7, 0, 2, 7, 0, 1, 2, 1, 2, 1, 2,\n",
              "       7, 0, 1, 0, 7, 2, 1, 0, 7, 2, 7, 0, 1, 2, 1, 0, 7, 2, 1, 2, 7, 0,\n",
              "       7, 0, 1, 0, 1, 0, 7, 0, 1, 0, 1, 0, 1, 0, 7, 2, 1, 2, 1, 2, 7, 0,\n",
              "       1, 2, 1, 2, 7, 0, 1, 0, 7, 2, 7, 2, 7, 0, 7, 0, 1, 0, 7, 0, 7, 2,\n",
              "       1, 2], dtype=int32)"
            ]
          },
          "metadata": {},
          "execution_count": 45
        }
      ],
      "source": [
        "km=KMeans(n_clusters=8)\n",
        "category=km.fit_predict(df1)\n",
        "category"
      ]
    },
    {
      "cell_type": "code",
      "execution_count": 47,
      "id": "4fc272ea",
      "metadata": {
        "colab": {
          "base_uri": "https://localhost:8080/",
          "height": 206
        },
        "id": "4fc272ea",
        "outputId": "1ffd38b3-995e-40b2-b10b-13b470aee1f3"
      },
      "outputs": [
        {
          "output_type": "execute_result",
          "data": {
            "text/plain": [
              "   Gender  Age  Annual Income (k$)  Spending Score (1-100)  category\n",
              "0       1   19                15.0                      39         6\n",
              "1       1   21                15.0                      81         6\n",
              "2       0   20                16.0                       6         5\n",
              "3       0   23                16.0                      77         5\n",
              "4       0   31                17.0                      40         5"
            ],
            "text/html": [
              "\n",
              "  <div id=\"df-e616e143-d867-4845-ada6-c54dfff43744\">\n",
              "    <div class=\"colab-df-container\">\n",
              "      <div>\n",
              "<style scoped>\n",
              "    .dataframe tbody tr th:only-of-type {\n",
              "        vertical-align: middle;\n",
              "    }\n",
              "\n",
              "    .dataframe tbody tr th {\n",
              "        vertical-align: top;\n",
              "    }\n",
              "\n",
              "    .dataframe thead th {\n",
              "        text-align: right;\n",
              "    }\n",
              "</style>\n",
              "<table border=\"1\" class=\"dataframe\">\n",
              "  <thead>\n",
              "    <tr style=\"text-align: right;\">\n",
              "      <th></th>\n",
              "      <th>Gender</th>\n",
              "      <th>Age</th>\n",
              "      <th>Annual Income (k$)</th>\n",
              "      <th>Spending Score (1-100)</th>\n",
              "      <th>category</th>\n",
              "    </tr>\n",
              "  </thead>\n",
              "  <tbody>\n",
              "    <tr>\n",
              "      <th>0</th>\n",
              "      <td>1</td>\n",
              "      <td>19</td>\n",
              "      <td>15.0</td>\n",
              "      <td>39</td>\n",
              "      <td>6</td>\n",
              "    </tr>\n",
              "    <tr>\n",
              "      <th>1</th>\n",
              "      <td>1</td>\n",
              "      <td>21</td>\n",
              "      <td>15.0</td>\n",
              "      <td>81</td>\n",
              "      <td>6</td>\n",
              "    </tr>\n",
              "    <tr>\n",
              "      <th>2</th>\n",
              "      <td>0</td>\n",
              "      <td>20</td>\n",
              "      <td>16.0</td>\n",
              "      <td>6</td>\n",
              "      <td>5</td>\n",
              "    </tr>\n",
              "    <tr>\n",
              "      <th>3</th>\n",
              "      <td>0</td>\n",
              "      <td>23</td>\n",
              "      <td>16.0</td>\n",
              "      <td>77</td>\n",
              "      <td>5</td>\n",
              "    </tr>\n",
              "    <tr>\n",
              "      <th>4</th>\n",
              "      <td>0</td>\n",
              "      <td>31</td>\n",
              "      <td>17.0</td>\n",
              "      <td>40</td>\n",
              "      <td>5</td>\n",
              "    </tr>\n",
              "  </tbody>\n",
              "</table>\n",
              "</div>\n",
              "      <button class=\"colab-df-convert\" onclick=\"convertToInteractive('df-e616e143-d867-4845-ada6-c54dfff43744')\"\n",
              "              title=\"Convert this dataframe to an interactive table.\"\n",
              "              style=\"display:none;\">\n",
              "        \n",
              "  <svg xmlns=\"http://www.w3.org/2000/svg\" height=\"24px\"viewBox=\"0 0 24 24\"\n",
              "       width=\"24px\">\n",
              "    <path d=\"M0 0h24v24H0V0z\" fill=\"none\"/>\n",
              "    <path d=\"M18.56 5.44l.94 2.06.94-2.06 2.06-.94-2.06-.94-.94-2.06-.94 2.06-2.06.94zm-11 1L8.5 8.5l.94-2.06 2.06-.94-2.06-.94L8.5 2.5l-.94 2.06-2.06.94zm10 10l.94 2.06.94-2.06 2.06-.94-2.06-.94-.94-2.06-.94 2.06-2.06.94z\"/><path d=\"M17.41 7.96l-1.37-1.37c-.4-.4-.92-.59-1.43-.59-.52 0-1.04.2-1.43.59L10.3 9.45l-7.72 7.72c-.78.78-.78 2.05 0 2.83L4 21.41c.39.39.9.59 1.41.59.51 0 1.02-.2 1.41-.59l7.78-7.78 2.81-2.81c.8-.78.8-2.07 0-2.86zM5.41 20L4 18.59l7.72-7.72 1.47 1.35L5.41 20z\"/>\n",
              "  </svg>\n",
              "      </button>\n",
              "      \n",
              "  <style>\n",
              "    .colab-df-container {\n",
              "      display:flex;\n",
              "      flex-wrap:wrap;\n",
              "      gap: 12px;\n",
              "    }\n",
              "\n",
              "    .colab-df-convert {\n",
              "      background-color: #E8F0FE;\n",
              "      border: none;\n",
              "      border-radius: 50%;\n",
              "      cursor: pointer;\n",
              "      display: none;\n",
              "      fill: #1967D2;\n",
              "      height: 32px;\n",
              "      padding: 0 0 0 0;\n",
              "      width: 32px;\n",
              "    }\n",
              "\n",
              "    .colab-df-convert:hover {\n",
              "      background-color: #E2EBFA;\n",
              "      box-shadow: 0px 1px 2px rgba(60, 64, 67, 0.3), 0px 1px 3px 1px rgba(60, 64, 67, 0.15);\n",
              "      fill: #174EA6;\n",
              "    }\n",
              "\n",
              "    [theme=dark] .colab-df-convert {\n",
              "      background-color: #3B4455;\n",
              "      fill: #D2E3FC;\n",
              "    }\n",
              "\n",
              "    [theme=dark] .colab-df-convert:hover {\n",
              "      background-color: #434B5C;\n",
              "      box-shadow: 0px 1px 3px 1px rgba(0, 0, 0, 0.15);\n",
              "      filter: drop-shadow(0px 1px 2px rgba(0, 0, 0, 0.3));\n",
              "      fill: #FFFFFF;\n",
              "    }\n",
              "  </style>\n",
              "\n",
              "      <script>\n",
              "        const buttonEl =\n",
              "          document.querySelector('#df-e616e143-d867-4845-ada6-c54dfff43744 button.colab-df-convert');\n",
              "        buttonEl.style.display =\n",
              "          google.colab.kernel.accessAllowed ? 'block' : 'none';\n",
              "\n",
              "        async function convertToInteractive(key) {\n",
              "          const element = document.querySelector('#df-e616e143-d867-4845-ada6-c54dfff43744');\n",
              "          const dataTable =\n",
              "            await google.colab.kernel.invokeFunction('convertToInteractive',\n",
              "                                                     [key], {});\n",
              "          if (!dataTable) return;\n",
              "\n",
              "          const docLinkHtml = 'Like what you see? Visit the ' +\n",
              "            '<a target=\"_blank\" href=https://colab.research.google.com/notebooks/data_table.ipynb>data table notebook</a>'\n",
              "            + ' to learn more about interactive tables.';\n",
              "          element.innerHTML = '';\n",
              "          dataTable['output_type'] = 'display_data';\n",
              "          await google.colab.output.renderOutput(dataTable, element);\n",
              "          const docLink = document.createElement('div');\n",
              "          docLink.innerHTML = docLinkHtml;\n",
              "          element.appendChild(docLink);\n",
              "        }\n",
              "      </script>\n",
              "    </div>\n",
              "  </div>\n",
              "  "
            ]
          },
          "metadata": {},
          "execution_count": 47
        }
      ],
      "source": [
        "#adding cluster data with primary dataset\n",
        "mall_customers['category']=pd.Series(category)\n",
        "mall_customers.head()"
      ]
    },
    {
      "cell_type": "code",
      "execution_count": 48,
      "id": "0dda2548",
      "metadata": {
        "colab": {
          "base_uri": "https://localhost:8080/"
        },
        "id": "0dda2548",
        "outputId": "325f7674-9eaa-40c4-c58d-ae0d4e299ce3"
      },
      "outputs": [
        {
          "output_type": "execute_result",
          "data": {
            "text/plain": [
              "(200, 5)"
            ]
          },
          "metadata": {},
          "execution_count": 48
        }
      ],
      "source": [
        "mall_customers.shape"
      ]
    },
    {
      "cell_type": "code",
      "execution_count": 49,
      "id": "ae7e0c78",
      "metadata": {
        "colab": {
          "base_uri": "https://localhost:8080/"
        },
        "id": "ae7e0c78",
        "outputId": "1f1473b7-1973-42d1-c6bb-a6ad5ba2cde4"
      },
      "outputs": [
        {
          "output_type": "execute_result",
          "data": {
            "text/plain": [
              "0      6\n",
              "1      6\n",
              "2      5\n",
              "3      5\n",
              "4      5\n",
              "      ..\n",
              "195    0\n",
              "196    7\n",
              "197    2\n",
              "198    1\n",
              "199    2\n",
              "Name: category, Length: 200, dtype: int32"
            ]
          },
          "metadata": {},
          "execution_count": 49
        }
      ],
      "source": [
        "#splitting dependent and independent variable\n",
        "\n",
        "y=mall_customers.iloc[:,-1]\n",
        "y"
      ]
    },
    {
      "cell_type": "code",
      "execution_count": 50,
      "id": "2cb48615",
      "metadata": {
        "colab": {
          "base_uri": "https://localhost:8080/",
          "height": 424
        },
        "id": "2cb48615",
        "outputId": "27c466d6-d329-46d9-f9d9-562483568610"
      },
      "outputs": [
        {
          "output_type": "execute_result",
          "data": {
            "text/plain": [
              "     Gender  Age  Annual Income (k$)  Spending Score (1-100)\n",
              "0         1   19                15.0                      39\n",
              "1         1   21                15.0                      81\n",
              "2         0   20                16.0                       6\n",
              "3         0   23                16.0                      77\n",
              "4         0   31                17.0                      40\n",
              "..      ...  ...                 ...                     ...\n",
              "195       0   35               120.0                      79\n",
              "196       0   45               126.0                      28\n",
              "197       1   32               126.0                      74\n",
              "198       1   32                61.5                      18\n",
              "199       1   30                61.5                      83\n",
              "\n",
              "[200 rows x 4 columns]"
            ],
            "text/html": [
              "\n",
              "  <div id=\"df-18fe8072-d2f0-4ab8-970a-906bb8df97fa\">\n",
              "    <div class=\"colab-df-container\">\n",
              "      <div>\n",
              "<style scoped>\n",
              "    .dataframe tbody tr th:only-of-type {\n",
              "        vertical-align: middle;\n",
              "    }\n",
              "\n",
              "    .dataframe tbody tr th {\n",
              "        vertical-align: top;\n",
              "    }\n",
              "\n",
              "    .dataframe thead th {\n",
              "        text-align: right;\n",
              "    }\n",
              "</style>\n",
              "<table border=\"1\" class=\"dataframe\">\n",
              "  <thead>\n",
              "    <tr style=\"text-align: right;\">\n",
              "      <th></th>\n",
              "      <th>Gender</th>\n",
              "      <th>Age</th>\n",
              "      <th>Annual Income (k$)</th>\n",
              "      <th>Spending Score (1-100)</th>\n",
              "    </tr>\n",
              "  </thead>\n",
              "  <tbody>\n",
              "    <tr>\n",
              "      <th>0</th>\n",
              "      <td>1</td>\n",
              "      <td>19</td>\n",
              "      <td>15.0</td>\n",
              "      <td>39</td>\n",
              "    </tr>\n",
              "    <tr>\n",
              "      <th>1</th>\n",
              "      <td>1</td>\n",
              "      <td>21</td>\n",
              "      <td>15.0</td>\n",
              "      <td>81</td>\n",
              "    </tr>\n",
              "    <tr>\n",
              "      <th>2</th>\n",
              "      <td>0</td>\n",
              "      <td>20</td>\n",
              "      <td>16.0</td>\n",
              "      <td>6</td>\n",
              "    </tr>\n",
              "    <tr>\n",
              "      <th>3</th>\n",
              "      <td>0</td>\n",
              "      <td>23</td>\n",
              "      <td>16.0</td>\n",
              "      <td>77</td>\n",
              "    </tr>\n",
              "    <tr>\n",
              "      <th>4</th>\n",
              "      <td>0</td>\n",
              "      <td>31</td>\n",
              "      <td>17.0</td>\n",
              "      <td>40</td>\n",
              "    </tr>\n",
              "    <tr>\n",
              "      <th>...</th>\n",
              "      <td>...</td>\n",
              "      <td>...</td>\n",
              "      <td>...</td>\n",
              "      <td>...</td>\n",
              "    </tr>\n",
              "    <tr>\n",
              "      <th>195</th>\n",
              "      <td>0</td>\n",
              "      <td>35</td>\n",
              "      <td>120.0</td>\n",
              "      <td>79</td>\n",
              "    </tr>\n",
              "    <tr>\n",
              "      <th>196</th>\n",
              "      <td>0</td>\n",
              "      <td>45</td>\n",
              "      <td>126.0</td>\n",
              "      <td>28</td>\n",
              "    </tr>\n",
              "    <tr>\n",
              "      <th>197</th>\n",
              "      <td>1</td>\n",
              "      <td>32</td>\n",
              "      <td>126.0</td>\n",
              "      <td>74</td>\n",
              "    </tr>\n",
              "    <tr>\n",
              "      <th>198</th>\n",
              "      <td>1</td>\n",
              "      <td>32</td>\n",
              "      <td>61.5</td>\n",
              "      <td>18</td>\n",
              "    </tr>\n",
              "    <tr>\n",
              "      <th>199</th>\n",
              "      <td>1</td>\n",
              "      <td>30</td>\n",
              "      <td>61.5</td>\n",
              "      <td>83</td>\n",
              "    </tr>\n",
              "  </tbody>\n",
              "</table>\n",
              "<p>200 rows × 4 columns</p>\n",
              "</div>\n",
              "      <button class=\"colab-df-convert\" onclick=\"convertToInteractive('df-18fe8072-d2f0-4ab8-970a-906bb8df97fa')\"\n",
              "              title=\"Convert this dataframe to an interactive table.\"\n",
              "              style=\"display:none;\">\n",
              "        \n",
              "  <svg xmlns=\"http://www.w3.org/2000/svg\" height=\"24px\"viewBox=\"0 0 24 24\"\n",
              "       width=\"24px\">\n",
              "    <path d=\"M0 0h24v24H0V0z\" fill=\"none\"/>\n",
              "    <path d=\"M18.56 5.44l.94 2.06.94-2.06 2.06-.94-2.06-.94-.94-2.06-.94 2.06-2.06.94zm-11 1L8.5 8.5l.94-2.06 2.06-.94-2.06-.94L8.5 2.5l-.94 2.06-2.06.94zm10 10l.94 2.06.94-2.06 2.06-.94-2.06-.94-.94-2.06-.94 2.06-2.06.94z\"/><path d=\"M17.41 7.96l-1.37-1.37c-.4-.4-.92-.59-1.43-.59-.52 0-1.04.2-1.43.59L10.3 9.45l-7.72 7.72c-.78.78-.78 2.05 0 2.83L4 21.41c.39.39.9.59 1.41.59.51 0 1.02-.2 1.41-.59l7.78-7.78 2.81-2.81c.8-.78.8-2.07 0-2.86zM5.41 20L4 18.59l7.72-7.72 1.47 1.35L5.41 20z\"/>\n",
              "  </svg>\n",
              "      </button>\n",
              "      \n",
              "  <style>\n",
              "    .colab-df-container {\n",
              "      display:flex;\n",
              "      flex-wrap:wrap;\n",
              "      gap: 12px;\n",
              "    }\n",
              "\n",
              "    .colab-df-convert {\n",
              "      background-color: #E8F0FE;\n",
              "      border: none;\n",
              "      border-radius: 50%;\n",
              "      cursor: pointer;\n",
              "      display: none;\n",
              "      fill: #1967D2;\n",
              "      height: 32px;\n",
              "      padding: 0 0 0 0;\n",
              "      width: 32px;\n",
              "    }\n",
              "\n",
              "    .colab-df-convert:hover {\n",
              "      background-color: #E2EBFA;\n",
              "      box-shadow: 0px 1px 2px rgba(60, 64, 67, 0.3), 0px 1px 3px 1px rgba(60, 64, 67, 0.15);\n",
              "      fill: #174EA6;\n",
              "    }\n",
              "\n",
              "    [theme=dark] .colab-df-convert {\n",
              "      background-color: #3B4455;\n",
              "      fill: #D2E3FC;\n",
              "    }\n",
              "\n",
              "    [theme=dark] .colab-df-convert:hover {\n",
              "      background-color: #434B5C;\n",
              "      box-shadow: 0px 1px 3px 1px rgba(0, 0, 0, 0.15);\n",
              "      filter: drop-shadow(0px 1px 2px rgba(0, 0, 0, 0.3));\n",
              "      fill: #FFFFFF;\n",
              "    }\n",
              "  </style>\n",
              "\n",
              "      <script>\n",
              "        const buttonEl =\n",
              "          document.querySelector('#df-18fe8072-d2f0-4ab8-970a-906bb8df97fa button.colab-df-convert');\n",
              "        buttonEl.style.display =\n",
              "          google.colab.kernel.accessAllowed ? 'block' : 'none';\n",
              "\n",
              "        async function convertToInteractive(key) {\n",
              "          const element = document.querySelector('#df-18fe8072-d2f0-4ab8-970a-906bb8df97fa');\n",
              "          const dataTable =\n",
              "            await google.colab.kernel.invokeFunction('convertToInteractive',\n",
              "                                                     [key], {});\n",
              "          if (!dataTable) return;\n",
              "\n",
              "          const docLinkHtml = 'Like what you see? Visit the ' +\n",
              "            '<a target=\"_blank\" href=https://colab.research.google.com/notebooks/data_table.ipynb>data table notebook</a>'\n",
              "            + ' to learn more about interactive tables.';\n",
              "          element.innerHTML = '';\n",
              "          dataTable['output_type'] = 'display_data';\n",
              "          await google.colab.output.renderOutput(dataTable, element);\n",
              "          const docLink = document.createElement('div');\n",
              "          docLink.innerHTML = docLinkHtml;\n",
              "          element.appendChild(docLink);\n",
              "        }\n",
              "      </script>\n",
              "    </div>\n",
              "  </div>\n",
              "  "
            ]
          },
          "metadata": {},
          "execution_count": 50
        }
      ],
      "source": [
        "X=mall_customers.iloc[:,:-1]\n",
        "X"
      ]
    },
    {
      "cell_type": "code",
      "execution_count": 51,
      "id": "38192964",
      "metadata": {
        "id": "38192964"
      },
      "outputs": [],
      "source": [
        "#Split the data into training and testing.\n",
        "\n",
        "from sklearn.model_selection import train_test_split\n",
        "\n",
        "X_train,X_test,y_train,y_test=train_test_split(X,y,test_size=0.2,random_state=0)"
      ]
    },
    {
      "cell_type": "code",
      "execution_count": 52,
      "id": "6b37bee5",
      "metadata": {
        "colab": {
          "base_uri": "https://localhost:8080/"
        },
        "id": "6b37bee5",
        "outputId": "0d16e32b-eba0-4413-a606-f9f23770f625"
      },
      "outputs": [
        {
          "output_type": "stream",
          "name": "stdout",
          "text": [
            "(160, 4)\n",
            "(40, 4)\n"
          ]
        }
      ],
      "source": [
        "print(X_train.shape)\n",
        "print(X_test.shape)"
      ]
    },
    {
      "cell_type": "code",
      "execution_count": 53,
      "id": "e68bf297",
      "metadata": {
        "id": "e68bf297"
      },
      "outputs": [],
      "source": [
        "#Builing model\n",
        "from sklearn.ensemble import RandomForestClassifier\n",
        "model=RandomForestClassifier()\n"
      ]
    },
    {
      "cell_type": "code",
      "execution_count": 54,
      "id": "1eed7c78",
      "metadata": {
        "colab": {
          "base_uri": "https://localhost:8080/"
        },
        "id": "1eed7c78",
        "outputId": "1e59f23d-fdcd-46eb-d6e6-a55927f3ebc2"
      },
      "outputs": [
        {
          "output_type": "execute_result",
          "data": {
            "text/plain": [
              "RandomForestClassifier()"
            ]
          },
          "metadata": {},
          "execution_count": 54
        }
      ],
      "source": [
        "#training model\n",
        "model.fit(X_train,y_train)"
      ]
    },
    {
      "cell_type": "code",
      "execution_count": 55,
      "id": "0188a5fc",
      "metadata": {
        "colab": {
          "base_uri": "https://localhost:8080/"
        },
        "id": "0188a5fc",
        "outputId": "a518e582-5657-4296-e9e7-2532f5bd0ce4"
      },
      "outputs": [
        {
          "output_type": "execute_result",
          "data": {
            "text/plain": [
              "array([4, 1, 4, 4, 2, 1, 5, 1, 3, 7, 6, 0, 7, 7, 4, 5, 6, 1, 5, 4, 0, 2,\n",
              "       5, 0, 4, 2, 2, 2, 3, 3, 5, 4, 1, 5, 3, 0, 2, 5, 3, 3], dtype=int32)"
            ]
          },
          "metadata": {},
          "execution_count": 55
        }
      ],
      "source": [
        "y_pred=model.predict(X_test)\n",
        "y_pred"
      ]
    },
    {
      "cell_type": "code",
      "execution_count": 56,
      "id": "f1af8bd1",
      "metadata": {
        "id": "f1af8bd1"
      },
      "outputs": [],
      "source": [
        "#Evaluating model\n",
        "from sklearn.metrics import accuracy_score,classification_report,confusion_matrix"
      ]
    },
    {
      "cell_type": "code",
      "execution_count": 57,
      "id": "affc65ae",
      "metadata": {
        "colab": {
          "base_uri": "https://localhost:8080/"
        },
        "id": "affc65ae",
        "outputId": "82764611-18b3-4eed-c9ac-139a300788d8"
      },
      "outputs": [
        {
          "output_type": "stream",
          "name": "stdout",
          "text": [
            "model accuracy 0.975\n"
          ]
        }
      ],
      "source": [
        "print('model accuracy', accuracy_score(y_test,y_pred))"
      ]
    },
    {
      "cell_type": "code",
      "execution_count": 58,
      "id": "d54f1e7e",
      "metadata": {
        "colab": {
          "base_uri": "https://localhost:8080/"
        },
        "id": "d54f1e7e",
        "outputId": "4cff33af-24c8-4487-dbf2-bab89dc8dd95"
      },
      "outputs": [
        {
          "output_type": "execute_result",
          "data": {
            "text/plain": [
              "array([1, 3, 3, 6, 7, 3, 4, 6, 3, 0, 3, 7, 7, 5, 2, 3, 4, 7, 3, 3, 2, 3,\n",
              "       0, 5, 0, 4, 3, 0, 6, 3, 0, 3, 2, 3, 1, 3, 4, 6, 6, 2, 2, 3, 1, 0,\n",
              "       4, 3, 5, 4, 7, 2, 5, 4, 7, 3, 7, 1, 0, 1, 3, 7, 1, 0, 3, 6, 5, 4,\n",
              "       6, 4, 0, 6, 5, 5, 5, 4, 5, 0, 6, 7, 0, 6, 6, 5, 4, 5, 5, 3, 5, 3,\n",
              "       1, 1, 3, 6, 5, 7, 0, 2, 1, 6, 2, 5, 3, 4, 5, 4, 6, 6, 6, 1, 4, 5,\n",
              "       7, 2, 6, 3, 0, 4, 0, 1, 3, 3, 5, 2, 5, 1, 2, 1, 4, 7, 2, 0, 5, 6,\n",
              "       4, 3, 5, 7, 0, 3, 6, 6, 0, 6, 7, 7, 7, 5, 5, 7, 5, 4, 5, 3, 6, 5,\n",
              "       6, 3, 1, 3, 5, 1], dtype=int32)"
            ]
          },
          "metadata": {},
          "execution_count": 58
        }
      ],
      "source": [
        "train_pred=model.predict(X_train)\n",
        "train_pred"
      ]
    },
    {
      "cell_type": "code",
      "execution_count": 59,
      "id": "93325f09",
      "metadata": {
        "colab": {
          "base_uri": "https://localhost:8080/"
        },
        "id": "93325f09",
        "outputId": "444949cd-1771-4b38-a9fa-d80d75656ff7"
      },
      "outputs": [
        {
          "output_type": "stream",
          "name": "stdout",
          "text": [
            "model train accuracy 1.0\n"
          ]
        }
      ],
      "source": [
        "print('model train accuracy',accuracy_score(y_train,train_pred))"
      ]
    },
    {
      "cell_type": "code",
      "execution_count": 60,
      "id": "9c3134be",
      "metadata": {
        "colab": {
          "base_uri": "https://localhost:8080/",
          "height": 286
        },
        "id": "9c3134be",
        "outputId": "20fb306c-5f32-43ee-b3d5-a9758d0fc039"
      },
      "outputs": [
        {
          "output_type": "execute_result",
          "data": {
            "text/plain": [
              "<matplotlib.axes._subplots.AxesSubplot at 0x7f02fe29bed0>"
            ]
          },
          "metadata": {},
          "execution_count": 60
        },
        {
          "output_type": "display_data",
          "data": {
            "text/plain": [
              "<Figure size 432x288 with 2 Axes>"
            ],
            "image/png": "[encoded data removed]"
          },
          "metadata": {
            "needs_background": "light"
          }
        }
      ],
      "source": [
        "sns.heatmap(confusion_matrix(y_test,y_pred),annot=True)"
      ]
    },
    {
      "cell_type": "code",
      "execution_count": 61,
      "id": "e0933046",
      "metadata": {
        "colab": {
          "base_uri": "https://localhost:8080/"
        },
        "id": "e0933046",
        "outputId": "bfcb4736-7bf6-4e47-f28d-16b6e232739f"
      },
      "outputs": [
        {
          "output_type": "stream",
          "name": "stdout",
          "text": [
            "              precision    recall  f1-score   support\n",
            "\n",
            "           0       1.00      0.80      0.89         5\n",
            "           1       1.00      1.00      1.00         5\n",
            "           2       1.00      1.00      1.00         6\n",
            "           3       0.83      1.00      0.91         5\n",
            "           4       1.00      1.00      1.00         7\n",
            "           5       1.00      1.00      1.00         7\n",
            "           6       1.00      1.00      1.00         2\n",
            "           7       1.00      1.00      1.00         3\n",
            "\n",
            "    accuracy                           0.97        40\n",
            "   macro avg       0.98      0.97      0.97        40\n",
            "weighted avg       0.98      0.97      0.97        40\n",
            "\n"
          ]
        }
      ],
      "source": [
        "print(classification_report(y_test,y_pred))"
      ]
    },
    {
      "cell_type": "code",
      "execution_count": 61,
      "id": "20fc83ce",
      "metadata": {
        "id": "20fc83ce"
      },
      "outputs": [],
      "source": []
    }
  ],
  "metadata": {
    "kernelspec": {
      "display_name": "Python 3 (ipykernel)",
      "language": "python",
      "name": "python3"
    },
    "language_info": {
      "codemirror_mode": {
        "name": "ipython",
        "version": 3
      },
      "file_extension": ".py",
      "mimetype": "text/x-python",
      "name": "python",
      "nbconvert_exporter": "python",
      "pygments_lexer": "ipython3",
      "version": "3.9.12"
    },
    "colab": {
      "provenance": []
    }
  },
  "nbformat": 4,
  "nbformat_minor": 5
}